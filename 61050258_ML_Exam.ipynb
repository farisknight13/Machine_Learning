{
  "nbformat": 4,
  "nbformat_minor": 0,
  "metadata": {
    "colab": {
      "name": "61050258_ML_Exam.ipynb",
      "provenance": [],
      "collapsed_sections": []
    },
    "kernelspec": {
      "name": "python3",
      "display_name": "Python 3"
    }
  },
  "cells": [
    {
      "cell_type": "code",
      "metadata": {
        "id": "Td_QV1fnKVmk"
      },
      "source": [
        "import numpy as np\r\n",
        "import pandas as pd"
      ],
      "execution_count": 3,
      "outputs": []
    },
    {
      "cell_type": "code",
      "metadata": {
        "colab": {
          "base_uri": "https://localhost:8080/",
          "height": 419
        },
        "id": "n7BoE8lqN-OG",
        "outputId": "29e2ea01-aa02-47d6-877f-c4b07853cf2f"
      },
      "source": [
        "url = 'https://raw.githubusercontent.com/farisknight13/Machine_Learning/main/drug200.csv'\r\n",
        "df = pd.read_csv(url)\r\n",
        "df"
      ],
      "execution_count": 4,
      "outputs": [
        {
          "output_type": "execute_result",
          "data": {
            "text/html": [
              "<div>\n",
              "<style scoped>\n",
              "    .dataframe tbody tr th:only-of-type {\n",
              "        vertical-align: middle;\n",
              "    }\n",
              "\n",
              "    .dataframe tbody tr th {\n",
              "        vertical-align: top;\n",
              "    }\n",
              "\n",
              "    .dataframe thead th {\n",
              "        text-align: right;\n",
              "    }\n",
              "</style>\n",
              "<table border=\"1\" class=\"dataframe\">\n",
              "  <thead>\n",
              "    <tr style=\"text-align: right;\">\n",
              "      <th></th>\n",
              "      <th>Age</th>\n",
              "      <th>Sex</th>\n",
              "      <th>BP</th>\n",
              "      <th>Cholesterol</th>\n",
              "      <th>Na_to_K</th>\n",
              "      <th>Drug</th>\n",
              "    </tr>\n",
              "  </thead>\n",
              "  <tbody>\n",
              "    <tr>\n",
              "      <th>0</th>\n",
              "      <td>23</td>\n",
              "      <td>F</td>\n",
              "      <td>HIGH</td>\n",
              "      <td>HIGH</td>\n",
              "      <td>25.355</td>\n",
              "      <td>DrugY</td>\n",
              "    </tr>\n",
              "    <tr>\n",
              "      <th>1</th>\n",
              "      <td>47</td>\n",
              "      <td>M</td>\n",
              "      <td>LOW</td>\n",
              "      <td>HIGH</td>\n",
              "      <td>13.093</td>\n",
              "      <td>drugC</td>\n",
              "    </tr>\n",
              "    <tr>\n",
              "      <th>2</th>\n",
              "      <td>47</td>\n",
              "      <td>M</td>\n",
              "      <td>LOW</td>\n",
              "      <td>HIGH</td>\n",
              "      <td>10.114</td>\n",
              "      <td>drugC</td>\n",
              "    </tr>\n",
              "    <tr>\n",
              "      <th>3</th>\n",
              "      <td>28</td>\n",
              "      <td>F</td>\n",
              "      <td>NORMAL</td>\n",
              "      <td>HIGH</td>\n",
              "      <td>7.798</td>\n",
              "      <td>drugX</td>\n",
              "    </tr>\n",
              "    <tr>\n",
              "      <th>4</th>\n",
              "      <td>61</td>\n",
              "      <td>F</td>\n",
              "      <td>LOW</td>\n",
              "      <td>HIGH</td>\n",
              "      <td>18.043</td>\n",
              "      <td>DrugY</td>\n",
              "    </tr>\n",
              "    <tr>\n",
              "      <th>...</th>\n",
              "      <td>...</td>\n",
              "      <td>...</td>\n",
              "      <td>...</td>\n",
              "      <td>...</td>\n",
              "      <td>...</td>\n",
              "      <td>...</td>\n",
              "    </tr>\n",
              "    <tr>\n",
              "      <th>195</th>\n",
              "      <td>56</td>\n",
              "      <td>F</td>\n",
              "      <td>LOW</td>\n",
              "      <td>HIGH</td>\n",
              "      <td>11.567</td>\n",
              "      <td>drugC</td>\n",
              "    </tr>\n",
              "    <tr>\n",
              "      <th>196</th>\n",
              "      <td>16</td>\n",
              "      <td>M</td>\n",
              "      <td>LOW</td>\n",
              "      <td>HIGH</td>\n",
              "      <td>12.006</td>\n",
              "      <td>drugC</td>\n",
              "    </tr>\n",
              "    <tr>\n",
              "      <th>197</th>\n",
              "      <td>52</td>\n",
              "      <td>M</td>\n",
              "      <td>NORMAL</td>\n",
              "      <td>HIGH</td>\n",
              "      <td>9.894</td>\n",
              "      <td>drugX</td>\n",
              "    </tr>\n",
              "    <tr>\n",
              "      <th>198</th>\n",
              "      <td>23</td>\n",
              "      <td>M</td>\n",
              "      <td>NORMAL</td>\n",
              "      <td>NORMAL</td>\n",
              "      <td>14.020</td>\n",
              "      <td>drugX</td>\n",
              "    </tr>\n",
              "    <tr>\n",
              "      <th>199</th>\n",
              "      <td>40</td>\n",
              "      <td>F</td>\n",
              "      <td>LOW</td>\n",
              "      <td>NORMAL</td>\n",
              "      <td>11.349</td>\n",
              "      <td>drugX</td>\n",
              "    </tr>\n",
              "  </tbody>\n",
              "</table>\n",
              "<p>200 rows × 6 columns</p>\n",
              "</div>"
            ],
            "text/plain": [
              "     Age Sex      BP Cholesterol  Na_to_K   Drug\n",
              "0     23   F    HIGH        HIGH   25.355  DrugY\n",
              "1     47   M     LOW        HIGH   13.093  drugC\n",
              "2     47   M     LOW        HIGH   10.114  drugC\n",
              "3     28   F  NORMAL        HIGH    7.798  drugX\n",
              "4     61   F     LOW        HIGH   18.043  DrugY\n",
              "..   ...  ..     ...         ...      ...    ...\n",
              "195   56   F     LOW        HIGH   11.567  drugC\n",
              "196   16   M     LOW        HIGH   12.006  drugC\n",
              "197   52   M  NORMAL        HIGH    9.894  drugX\n",
              "198   23   M  NORMAL      NORMAL   14.020  drugX\n",
              "199   40   F     LOW      NORMAL   11.349  drugX\n",
              "\n",
              "[200 rows x 6 columns]"
            ]
          },
          "metadata": {
            "tags": []
          },
          "execution_count": 4
        }
      ]
    },
    {
      "cell_type": "markdown",
      "metadata": {
        "id": "W7XYb7eBOiaF"
      },
      "source": [
        "## **Explain Dataset**\r\n",
        "Dataset ที่ใช้เกี่ยวกับการแยกประเภทยาของผู้ป่วย โดยจะแบ่งออกเป็น 5 ประเภท คือ DrugY, drugX, drugA, drugC, drugB <br>\r\n",
        "โดยจะแยกจาก อายุของผู้ป่วย, เพศของผู้ป่วย, ระดับความดันโลหิต(ความดันโลหิตแบ่งเป็น ความดันต่ำ, ความดันปกติ, และความดันสูง), <br>ระดับคอเลสเตอรอล(ระดับคอเลสเตอรอลแบ่งเป็น คอเลสเตอรอลปกติ และคอเลสเตอรอลสูง), อัตราส่วนโซเดียมต่อโพแทสเซียมในเลือด"
      ]
    },
    {
      "cell_type": "code",
      "metadata": {
        "colab": {
          "base_uri": "https://localhost:8080/",
          "height": 419
        },
        "id": "icMQqvEVtaaA",
        "outputId": "532616de-c9eb-4644-a7ef-5c8b87a593b6"
      },
      "source": [
        "#Change value to dummy value\r\n",
        "df['Sex'] = df['Sex'].replace(['M','F'],['0','1'])\r\n",
        "df['BP'] = df['BP'].replace(['LOW','NORMAL','HIGH'],['0','1','2'])\r\n",
        "df['Cholesterol'] = df['Cholesterol'].replace(['NORMAL','HIGH'],['0','1',])\r\n",
        "df['Drug'] = df['Drug'].replace(['DrugY','drugX','drugA','drugC','drugB'],['1','2','3','4','5'])\r\n",
        "df"
      ],
      "execution_count": 5,
      "outputs": [
        {
          "output_type": "execute_result",
          "data": {
            "text/html": [
              "<div>\n",
              "<style scoped>\n",
              "    .dataframe tbody tr th:only-of-type {\n",
              "        vertical-align: middle;\n",
              "    }\n",
              "\n",
              "    .dataframe tbody tr th {\n",
              "        vertical-align: top;\n",
              "    }\n",
              "\n",
              "    .dataframe thead th {\n",
              "        text-align: right;\n",
              "    }\n",
              "</style>\n",
              "<table border=\"1\" class=\"dataframe\">\n",
              "  <thead>\n",
              "    <tr style=\"text-align: right;\">\n",
              "      <th></th>\n",
              "      <th>Age</th>\n",
              "      <th>Sex</th>\n",
              "      <th>BP</th>\n",
              "      <th>Cholesterol</th>\n",
              "      <th>Na_to_K</th>\n",
              "      <th>Drug</th>\n",
              "    </tr>\n",
              "  </thead>\n",
              "  <tbody>\n",
              "    <tr>\n",
              "      <th>0</th>\n",
              "      <td>23</td>\n",
              "      <td>1</td>\n",
              "      <td>2</td>\n",
              "      <td>1</td>\n",
              "      <td>25.355</td>\n",
              "      <td>1</td>\n",
              "    </tr>\n",
              "    <tr>\n",
              "      <th>1</th>\n",
              "      <td>47</td>\n",
              "      <td>0</td>\n",
              "      <td>0</td>\n",
              "      <td>1</td>\n",
              "      <td>13.093</td>\n",
              "      <td>4</td>\n",
              "    </tr>\n",
              "    <tr>\n",
              "      <th>2</th>\n",
              "      <td>47</td>\n",
              "      <td>0</td>\n",
              "      <td>0</td>\n",
              "      <td>1</td>\n",
              "      <td>10.114</td>\n",
              "      <td>4</td>\n",
              "    </tr>\n",
              "    <tr>\n",
              "      <th>3</th>\n",
              "      <td>28</td>\n",
              "      <td>1</td>\n",
              "      <td>1</td>\n",
              "      <td>1</td>\n",
              "      <td>7.798</td>\n",
              "      <td>2</td>\n",
              "    </tr>\n",
              "    <tr>\n",
              "      <th>4</th>\n",
              "      <td>61</td>\n",
              "      <td>1</td>\n",
              "      <td>0</td>\n",
              "      <td>1</td>\n",
              "      <td>18.043</td>\n",
              "      <td>1</td>\n",
              "    </tr>\n",
              "    <tr>\n",
              "      <th>...</th>\n",
              "      <td>...</td>\n",
              "      <td>...</td>\n",
              "      <td>...</td>\n",
              "      <td>...</td>\n",
              "      <td>...</td>\n",
              "      <td>...</td>\n",
              "    </tr>\n",
              "    <tr>\n",
              "      <th>195</th>\n",
              "      <td>56</td>\n",
              "      <td>1</td>\n",
              "      <td>0</td>\n",
              "      <td>1</td>\n",
              "      <td>11.567</td>\n",
              "      <td>4</td>\n",
              "    </tr>\n",
              "    <tr>\n",
              "      <th>196</th>\n",
              "      <td>16</td>\n",
              "      <td>0</td>\n",
              "      <td>0</td>\n",
              "      <td>1</td>\n",
              "      <td>12.006</td>\n",
              "      <td>4</td>\n",
              "    </tr>\n",
              "    <tr>\n",
              "      <th>197</th>\n",
              "      <td>52</td>\n",
              "      <td>0</td>\n",
              "      <td>1</td>\n",
              "      <td>1</td>\n",
              "      <td>9.894</td>\n",
              "      <td>2</td>\n",
              "    </tr>\n",
              "    <tr>\n",
              "      <th>198</th>\n",
              "      <td>23</td>\n",
              "      <td>0</td>\n",
              "      <td>1</td>\n",
              "      <td>0</td>\n",
              "      <td>14.020</td>\n",
              "      <td>2</td>\n",
              "    </tr>\n",
              "    <tr>\n",
              "      <th>199</th>\n",
              "      <td>40</td>\n",
              "      <td>1</td>\n",
              "      <td>0</td>\n",
              "      <td>0</td>\n",
              "      <td>11.349</td>\n",
              "      <td>2</td>\n",
              "    </tr>\n",
              "  </tbody>\n",
              "</table>\n",
              "<p>200 rows × 6 columns</p>\n",
              "</div>"
            ],
            "text/plain": [
              "     Age Sex BP Cholesterol  Na_to_K Drug\n",
              "0     23   1  2           1   25.355    1\n",
              "1     47   0  0           1   13.093    4\n",
              "2     47   0  0           1   10.114    4\n",
              "3     28   1  1           1    7.798    2\n",
              "4     61   1  0           1   18.043    1\n",
              "..   ...  .. ..         ...      ...  ...\n",
              "195   56   1  0           1   11.567    4\n",
              "196   16   0  0           1   12.006    4\n",
              "197   52   0  1           1    9.894    2\n",
              "198   23   0  1           0   14.020    2\n",
              "199   40   1  0           0   11.349    2\n",
              "\n",
              "[200 rows x 6 columns]"
            ]
          },
          "metadata": {
            "tags": []
          },
          "execution_count": 5
        }
      ]
    },
    {
      "cell_type": "markdown",
      "metadata": {
        "id": "MdKbYCvQIJ2i"
      },
      "source": [
        "## **Change value to dummy value**\r\n",
        "Colume Sex(เพศของผู้ป่วย) แทนค่า M เป็น 0 และ F เป็น 1 <br>\r\n",
        "Colume BP(ระดับความดันโลหิต) แทนค่า LOW เป็น 0 , NORMAL เป็น 1 และ HIGH เป็น 2 <br>Colume Cholesterol(ระดับคอเลสเตอรอล) แทนค่า NORMAL เป็น 0 และ HIGH เป็น 1 <br>Colume Drug(ประเภทของยา) แทนค่า DrugY เป็น 1 , drugX เป็น 2 , drugA เป็น 3 , drugC เป็น 4 และ drugB เป็น 5"
      ]
    },
    {
      "cell_type": "code",
      "metadata": {
        "colab": {
          "base_uri": "https://localhost:8080/",
          "height": 419
        },
        "id": "eH1iZKYaOg6a",
        "outputId": "8b94e5d6-12c4-4ecd-87cf-3b381a15d25f"
      },
      "source": [
        "#split data and drug\r\n",
        "X = df.iloc[:,:-1]\r\n",
        "y = df.iloc[:,-1]\r\n",
        "X"
      ],
      "execution_count": 7,
      "outputs": [
        {
          "output_type": "execute_result",
          "data": {
            "text/html": [
              "<div>\n",
              "<style scoped>\n",
              "    .dataframe tbody tr th:only-of-type {\n",
              "        vertical-align: middle;\n",
              "    }\n",
              "\n",
              "    .dataframe tbody tr th {\n",
              "        vertical-align: top;\n",
              "    }\n",
              "\n",
              "    .dataframe thead th {\n",
              "        text-align: right;\n",
              "    }\n",
              "</style>\n",
              "<table border=\"1\" class=\"dataframe\">\n",
              "  <thead>\n",
              "    <tr style=\"text-align: right;\">\n",
              "      <th></th>\n",
              "      <th>Age</th>\n",
              "      <th>Sex</th>\n",
              "      <th>BP</th>\n",
              "      <th>Cholesterol</th>\n",
              "      <th>Na_to_K</th>\n",
              "    </tr>\n",
              "  </thead>\n",
              "  <tbody>\n",
              "    <tr>\n",
              "      <th>0</th>\n",
              "      <td>23</td>\n",
              "      <td>1</td>\n",
              "      <td>2</td>\n",
              "      <td>1</td>\n",
              "      <td>25.355</td>\n",
              "    </tr>\n",
              "    <tr>\n",
              "      <th>1</th>\n",
              "      <td>47</td>\n",
              "      <td>0</td>\n",
              "      <td>0</td>\n",
              "      <td>1</td>\n",
              "      <td>13.093</td>\n",
              "    </tr>\n",
              "    <tr>\n",
              "      <th>2</th>\n",
              "      <td>47</td>\n",
              "      <td>0</td>\n",
              "      <td>0</td>\n",
              "      <td>1</td>\n",
              "      <td>10.114</td>\n",
              "    </tr>\n",
              "    <tr>\n",
              "      <th>3</th>\n",
              "      <td>28</td>\n",
              "      <td>1</td>\n",
              "      <td>1</td>\n",
              "      <td>1</td>\n",
              "      <td>7.798</td>\n",
              "    </tr>\n",
              "    <tr>\n",
              "      <th>4</th>\n",
              "      <td>61</td>\n",
              "      <td>1</td>\n",
              "      <td>0</td>\n",
              "      <td>1</td>\n",
              "      <td>18.043</td>\n",
              "    </tr>\n",
              "    <tr>\n",
              "      <th>...</th>\n",
              "      <td>...</td>\n",
              "      <td>...</td>\n",
              "      <td>...</td>\n",
              "      <td>...</td>\n",
              "      <td>...</td>\n",
              "    </tr>\n",
              "    <tr>\n",
              "      <th>195</th>\n",
              "      <td>56</td>\n",
              "      <td>1</td>\n",
              "      <td>0</td>\n",
              "      <td>1</td>\n",
              "      <td>11.567</td>\n",
              "    </tr>\n",
              "    <tr>\n",
              "      <th>196</th>\n",
              "      <td>16</td>\n",
              "      <td>0</td>\n",
              "      <td>0</td>\n",
              "      <td>1</td>\n",
              "      <td>12.006</td>\n",
              "    </tr>\n",
              "    <tr>\n",
              "      <th>197</th>\n",
              "      <td>52</td>\n",
              "      <td>0</td>\n",
              "      <td>1</td>\n",
              "      <td>1</td>\n",
              "      <td>9.894</td>\n",
              "    </tr>\n",
              "    <tr>\n",
              "      <th>198</th>\n",
              "      <td>23</td>\n",
              "      <td>0</td>\n",
              "      <td>1</td>\n",
              "      <td>0</td>\n",
              "      <td>14.020</td>\n",
              "    </tr>\n",
              "    <tr>\n",
              "      <th>199</th>\n",
              "      <td>40</td>\n",
              "      <td>1</td>\n",
              "      <td>0</td>\n",
              "      <td>0</td>\n",
              "      <td>11.349</td>\n",
              "    </tr>\n",
              "  </tbody>\n",
              "</table>\n",
              "<p>200 rows × 5 columns</p>\n",
              "</div>"
            ],
            "text/plain": [
              "     Age Sex BP Cholesterol  Na_to_K\n",
              "0     23   1  2           1   25.355\n",
              "1     47   0  0           1   13.093\n",
              "2     47   0  0           1   10.114\n",
              "3     28   1  1           1    7.798\n",
              "4     61   1  0           1   18.043\n",
              "..   ...  .. ..         ...      ...\n",
              "195   56   1  0           1   11.567\n",
              "196   16   0  0           1   12.006\n",
              "197   52   0  1           1    9.894\n",
              "198   23   0  1           0   14.020\n",
              "199   40   1  0           0   11.349\n",
              "\n",
              "[200 rows x 5 columns]"
            ]
          },
          "metadata": {
            "tags": []
          },
          "execution_count": 7
        }
      ]
    },
    {
      "cell_type": "code",
      "metadata": {
        "id": "dfW44LHpUDE9"
      },
      "source": [
        "from sklearn.model_selection import train_test_split\r\n",
        "#split Train and Test Data\r\n",
        "X_train, X_test, y_train, y_test = train_test_split(X, y, test_size=0.3, random_state=0)"
      ],
      "execution_count": 8,
      "outputs": []
    },
    {
      "cell_type": "markdown",
      "metadata": {
        "id": "sx1xmlN6k48O"
      },
      "source": [
        "## **Direct classification**\r\n",
        "classification ที่เลือกใช้คือ K-nearest-neighbors Classifier\r\n",
        "โดยทำลองใช้งานโดยเริ่มจาก n=3,5,10 เพิ่มขึ้นตามลำดับ\r\n",
        "และดูผลลัพธ์"
      ]
    },
    {
      "cell_type": "code",
      "metadata": {
        "colab": {
          "base_uri": "https://localhost:8080/"
        },
        "id": "rEkJVDmJmwGH",
        "outputId": "0d3664a8-1729-4529-8421-1a02930dc90a"
      },
      "source": [
        "from sklearn.neighbors import KNeighborsClassifier\r\n",
        "from sklearn.metrics import classification_report, confusion_matrix\r\n",
        "from sklearn.metrics import accuracy_score\r\n",
        "\r\n",
        "#N=3\r\n",
        "classifier_3 = KNeighborsClassifier(n_neighbors=3)\r\n",
        "classifier_3.fit(X_train, y_train)\r\n",
        "y_pred_3 = classifier_3.predict(X_test)\r\n",
        "print(\"Accuracy N=3 => \"+ str(accuracy_score(y_test,y_pred_3)))\r\n",
        "#print(confusion_matrix(y_test, y_pred_3))\r\n",
        "print(classification_report(y_test, y_pred_3))\r\n",
        "\r\n",
        "#N=5\r\n",
        "classifier_5 = KNeighborsClassifier(n_neighbors=5)\r\n",
        "classifier_5.fit(X_train, y_train)\r\n",
        "y_pred_5 = classifier_5.predict(X_test)\r\n",
        "print(\"Accuracy N=5 => \"+ str(accuracy_score(y_test,y_pred_5)))\r\n",
        "#print(confusion_matrix(y_test, y_pred_5))\r\n",
        "print(classification_report(y_test, y_pred_5))\r\n",
        "\r\n",
        "#N=10\r\n",
        "classifier_10 = KNeighborsClassifier(n_neighbors=10)\r\n",
        "classifier_10.fit(X_train, y_train)\r\n",
        "y_pred_10 = classifier_10.predict(X_test)\r\n",
        "print(\"Accuracy N=10 => \"+ str(accuracy_score(y_test,y_pred_10)))\r\n",
        "#print(confusion_matrix(y_test, y_pred_10))\r\n",
        "print(classification_report(y_test, y_pred_10))"
      ],
      "execution_count": 9,
      "outputs": [
        {
          "output_type": "stream",
          "text": [
            "Accuracy N=3 => 0.7333333333333333\n",
            "              precision    recall  f1-score   support\n",
            "\n",
            "           1       0.93      0.93      0.93        30\n",
            "           2       0.61      0.61      0.61        18\n",
            "           3       0.44      0.80      0.57         5\n",
            "           4       0.00      0.00      0.00         4\n",
            "           5       0.33      0.33      0.33         3\n",
            "\n",
            "    accuracy                           0.73        60\n",
            "   macro avg       0.46      0.54      0.49        60\n",
            "weighted avg       0.70      0.73      0.71        60\n",
            "\n",
            "Accuracy N=5 => 0.7666666666666667\n",
            "              precision    recall  f1-score   support\n",
            "\n",
            "           1       0.94      0.97      0.95        30\n",
            "           2       0.63      0.67      0.65        18\n",
            "           3       0.50      0.80      0.62         5\n",
            "           4       0.00      0.00      0.00         4\n",
            "           5       0.50      0.33      0.40         3\n",
            "\n",
            "    accuracy                           0.77        60\n",
            "   macro avg       0.51      0.55      0.52        60\n",
            "weighted avg       0.72      0.77      0.74        60\n",
            "\n",
            "Accuracy N=10 => 0.75\n",
            "              precision    recall  f1-score   support\n",
            "\n",
            "           1       0.97      1.00      0.98        30\n",
            "           2       0.60      0.67      0.63        18\n",
            "           3       0.50      0.60      0.55         5\n",
            "           4       0.00      0.00      0.00         4\n",
            "           5       0.00      0.00      0.00         3\n",
            "\n",
            "    accuracy                           0.75        60\n",
            "   macro avg       0.41      0.45      0.43        60\n",
            "weighted avg       0.71      0.75      0.73        60\n",
            "\n"
          ],
          "name": "stdout"
        },
        {
          "output_type": "stream",
          "text": [
            "/usr/local/lib/python3.6/dist-packages/sklearn/metrics/_classification.py:1272: UndefinedMetricWarning: Precision and F-score are ill-defined and being set to 0.0 in labels with no predicted samples. Use `zero_division` parameter to control this behavior.\n",
            "  _warn_prf(average, modifier, msg_start, len(result))\n",
            "/usr/local/lib/python3.6/dist-packages/sklearn/metrics/_classification.py:1272: UndefinedMetricWarning: Precision and F-score are ill-defined and being set to 0.0 in labels with no predicted samples. Use `zero_division` parameter to control this behavior.\n",
            "  _warn_prf(average, modifier, msg_start, len(result))\n",
            "/usr/local/lib/python3.6/dist-packages/sklearn/metrics/_classification.py:1272: UndefinedMetricWarning: Precision and F-score are ill-defined and being set to 0.0 in labels with no predicted samples. Use `zero_division` parameter to control this behavior.\n",
            "  _warn_prf(average, modifier, msg_start, len(result))\n"
          ],
          "name": "stderr"
        }
      ]
    },
    {
      "cell_type": "markdown",
      "metadata": {
        "id": "gHrhGyMaOe8B"
      },
      "source": [
        "## สรุป Direst Classification\r\n",
        "หลังจากนำ dataset ไปทำ Direct Classification พบว่ายิ่งใช้จำนวน N เพิ่มมากขึ้นมาโอกาศทำให้การทำนายผิดพลาดได้ เพราะจำนวนข้อมูลที่นำเข้ามาแต่ละ class มีไม่เท่ากันจึงอาจไปเจอ class ที่มีตัวนวนตัวอยู่ใกล้มากกว่าและทำให้การทำนายผิดพลายได้ และการที่จำนวน N น้อยเกินไปก็อาจทำให้ไม่ความแม่นยำลดลงได้เช่นเดียวกัน เพราะตัวที่อยู่ใกล้อาจมีจำนวนข้อมูลของแต่ละ class เท่ากัน จึงต้องเลือกใช้จำนวน N ที่เหมาะสมกับแต่ละ dataset โดยใน Dataset นี้ คือ N=5 จะให้ Accuracy เท่ากับ 0.76666667"
      ]
    },
    {
      "cell_type": "markdown",
      "metadata": {
        "id": "E2z7yU9ARTdu"
      },
      "source": [
        "## **Traditional Classification**\r\n",
        "Model ที่ใช้ในการทดลองมี Decision Tree และ Random Forest "
      ]
    },
    {
      "cell_type": "code",
      "metadata": {
        "colab": {
          "base_uri": "https://localhost:8080/"
        },
        "id": "ck_uqvzbUwg5",
        "outputId": "79117e00-c3a2-44d6-fb1f-5d01e707c2a0"
      },
      "source": [
        "from sklearn.tree import DecisionTreeClassifier\r\n",
        "from sklearn.ensemble import RandomForestClassifier\r\n",
        "\r\n",
        "#DecisionTree\r\n",
        "clf_NDT = DecisionTreeClassifier()\r\n",
        "clf_NDT = clf_NDT.fit(X_train,y_train)\r\n",
        "y_pred_NDT = clf_NDT.predict(X_test)\r\n",
        "print('Accuracy DecisionTree =',accuracy_score(y_test,y_pred_NDT))\r\n",
        "print(confusion_matrix(y_pred_NDT, y_test))\r\n",
        "\r\n",
        "#RandomForest\r\n",
        "clf_NRF = RandomForestClassifier()\r\n",
        "clf_NRF = clf_NRF.fit(X_train,y_train)\r\n",
        "y_pred_NRF = clf_NRF.predict(X_test)\r\n",
        "print('Accuracy RandomForest =',accuracy_score(y_test,y_pred_NRF))\r\n",
        "print(confusion_matrix(y_test, y_pred_NRF))"
      ],
      "execution_count": 10,
      "outputs": [
        {
          "output_type": "stream",
          "text": [
            "Accuracy DecisionTree = 1.0\n",
            "[[30  0  0  0  0]\n",
            " [ 0 18  0  0  0]\n",
            " [ 0  0  5  0  0]\n",
            " [ 0  0  0  4  0]\n",
            " [ 0  0  0  0  3]]\n",
            "Accuracy RandomForest = 1.0\n",
            "[[30  0  0  0  0]\n",
            " [ 0 18  0  0  0]\n",
            " [ 0  0  5  0  0]\n",
            " [ 0  0  0  4  0]\n",
            " [ 0  0  0  0  3]]\n"
          ],
          "name": "stdout"
        }
      ]
    },
    {
      "cell_type": "markdown",
      "metadata": {
        "id": "js8X7TBrkIrR"
      },
      "source": [
        "## สรุป Traditional Classification\r\n",
        "ผลการนำ dataset ไปเข้า model Decision Tree และ Random Forest ได้ค่า Accuracy และ confusion matrix เท่ากัน ค่า Accuracy เท่ากับ 1 ซึ่งหมายความว่า model มีการทำนายที่แม่นยำ ไม่มีข้อผิดพลาดเลย ซึ่ง Decision Tree และ Random Forest เป็นการนำ dataset ไปเข้า model เพื่อสร้างต้นไม้ออกมา เพื่อแยกประเภทของแต่ละclass ซึ่งแสดงว่า dataset นี้เหมาะกับการทำ Traditional Classification แบบ Decision Tree และ Random Forest"
      ]
    },
    {
      "cell_type": "markdown",
      "metadata": {
        "id": "sDdeYpnLmDh2"
      },
      "source": [
        "## **Deep Learning**\r\n",
        "เลือกใช้ model แบบ Multi-layer Perceptron ซึ่งเป็น Model Neural network ประเภทหนึ่ง และได้ทำการทดลองด้วยการปรับค่า hidden layer เท่ากับ 5, 6, 8, 9 ตามลำดับและดูผลลัพธ์"
      ]
    },
    {
      "cell_type": "code",
      "metadata": {
        "colab": {
          "base_uri": "https://localhost:8080/"
        },
        "id": "HqA9fygYiAHj",
        "outputId": "d2c67c6d-722f-4945-dc17-083453004803"
      },
      "source": [
        "from sklearn.neural_network import MLPClassifier\r\n",
        "from sklearn.model_selection import cross_val_score\r\n",
        "\r\n",
        "#hidden layer = 5\r\n",
        "clf_MLP_5 = MLPClassifier(solver='lbfgs', alpha=1e-5, hidden_layer_sizes=(5), random_state=1)\r\n",
        "clf_MLP_5.fit(X_train, y_train)\r\n",
        "y_pred_MLP_5 = clf_MLP_5.predict(X_test)\r\n",
        "print('Accuracy MLPClassifier_5 =',accuracy_score(y_test,y_pred_MLP_5))\r\n",
        "print(confusion_matrix(y_test, y_pred_MLP_5))\r\n",
        "\r\n",
        "#hidden layer = 6\r\n",
        "clf_MLP_6 = MLPClassifier(solver='lbfgs', alpha=1e-5, hidden_layer_sizes=(6), random_state=1)\r\n",
        "clf_MLP_6.fit(X_train, y_train)\r\n",
        "y_pred_MLP_6 = clf_MLP_6.predict(X_test)\r\n",
        "print('Accuracy MLPClassifier_6 =',accuracy_score(y_test,y_pred_MLP_6))\r\n",
        "print(confusion_matrix(y_test, y_pred_MLP_6))\r\n",
        "\r\n",
        "#hidden layer = 8\r\n",
        "clf_MLP_8 = MLPClassifier(solver='lbfgs', alpha=1e-5, hidden_layer_sizes=(8), random_state=1)\r\n",
        "clf_MLP_8.fit(X_train, y_train)\r\n",
        "y_pred_MLP_8 = clf_MLP_8.predict(X_test)\r\n",
        "print('Accuracy MLPClassifier_8 =',accuracy_score(y_test,y_pred_MLP_8))\r\n",
        "print(confusion_matrix(y_test, y_pred_MLP_8))\r\n",
        "\r\n",
        "#hidden layer = 8\r\n",
        "clf_MLP_9 = MLPClassifier(solver='lbfgs', alpha=1e-5, hidden_layer_sizes=(9), random_state=1)\r\n",
        "clf_MLP_9.fit(X_train, y_train)\r\n",
        "y_pred_MLP_9 = clf_MLP_9.predict(X_test)\r\n",
        "print('Accuracy MLPClassifier_9 =',accuracy_score(y_test,y_pred_MLP_9))\r\n",
        "print(confusion_matrix(y_test, y_pred_MLP_9))"
      ],
      "execution_count": 34,
      "outputs": [
        {
          "output_type": "stream",
          "text": [
            "Accuracy MLPClassifier_5 = 0.5\n",
            "[[30  0  0  0  0]\n",
            " [18  0  0  0  0]\n",
            " [ 5  0  0  0  0]\n",
            " [ 4  0  0  0  0]\n",
            " [ 3  0  0  0  0]]\n",
            "Accuracy MLPClassifier_6 = 0.75\n",
            "[[29  1  0  0  0]\n",
            " [ 0 16  2  0  0]\n",
            " [ 0  5  0  0  0]\n",
            " [ 1  3  0  0  0]\n",
            " [ 0  3  0  0  0]]\n",
            "Accuracy MLPClassifier_8 = 0.9333333333333333\n",
            "[[29  1  0  0  0]\n",
            " [ 1 15  0  1  1]\n",
            " [ 0  0  5  0  0]\n",
            " [ 0  0  0  4  0]\n",
            " [ 0  0  0  0  3]]\n",
            "Accuracy MLPClassifier_9 = 0.6166666666666667\n",
            "[[27  3  0  0  0]\n",
            " [ 3  6  9  0  0]\n",
            " [ 0  1  4  0  0]\n",
            " [ 1  2  1  0  0]\n",
            " [ 0  1  2  0  0]]\n"
          ],
          "name": "stdout"
        },
        {
          "output_type": "stream",
          "text": [
            "/usr/local/lib/python3.6/dist-packages/sklearn/neural_network/_multilayer_perceptron.py:470: ConvergenceWarning: lbfgs failed to converge (status=1):\n",
            "STOP: TOTAL NO. of ITERATIONS REACHED LIMIT.\n",
            "\n",
            "Increase the number of iterations (max_iter) or scale the data as shown in:\n",
            "    https://scikit-learn.org/stable/modules/preprocessing.html\n",
            "  self.n_iter_ = _check_optimize_result(\"lbfgs\", opt_res, self.max_iter)\n"
          ],
          "name": "stderr"
        }
      ]
    },
    {
      "cell_type": "markdown",
      "metadata": {
        "id": "xI21w2niro_i"
      },
      "source": [
        "## สรุป Deep Learning\r\n",
        "Deep Learning ได้ Accuracy มากที่สุดเท่ากับ 0.9333 ในการใส่พารามิเตอร์ hidden layer เท่ากับ 8 โดยจากการทดลองทำให้เห็นว่า dataset นี้เหมาะกับการใช้ hidden layer เท่ากับ 8 เพราะเมื่อเพิ่มจำนวน hidden layer ไปเป็น 9 ทำให้ค่า Accuracy ลดลง"
      ]
    }
  ]
}